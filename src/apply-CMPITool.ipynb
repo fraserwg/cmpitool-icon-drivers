{
 "cells": [
  {
   "cell_type": "code",
   "execution_count": null,
   "metadata": {
    "vscode": {
     "languageId": "plaintext"
    }
   },
   "outputs": [],
   "source": [
    "from cmpitool import cmpitool, cmpisetup\n",
    "\n",
    "path_to_model = \"/work/mh0256/m301014/cmpitool-icon-drivers/data/processed/icon-esm-er-control\"\n",
    "\n",
    "variable, region, climate_model, siconc, tas, clt, pr, rlut, uas, vas, ua, zg, zos, tos, mlotst, thetao, so = cmpisetup()\n",
    "\n",
    "icon_esm_er_control = climate_model(\n",
    "    name='ICON-ESM-ER-control',\n",
    "    variables=[siconc, zos, tos, mlotst, thetao, so, tas, pr, rlut, uas, vas, ua, zg, clt]\n",
    "    )\n",
    "\n",
    "models=[\n",
    "        icon_esm_er_control,\n",
    "    ]\n",
    "\n",
    "cmpitool(model_path, models, seasons=['DJF', 'MAM', 'JJA', 'SON'], complexity='regions', verbose=False, time='199101-202012', biasmaps=False, reanalysis=\"ERA5\")"
   ]
  }
 ],
 "metadata": {
  "language_info": {
   "name": "python"
  }
 },
 "nbformat": 4,
 "nbformat_minor": 2
}
